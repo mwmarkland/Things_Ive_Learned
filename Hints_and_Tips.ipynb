{
 "cells": [
  {
   "cell_type": "markdown",
   "metadata": {},
   "source": [
    "# Jupyter Notebook/IPython Hints and Tips"
   ]
  },
  {
   "cell_type": "markdown",
   "metadata": {},
   "source": [
    "IPython has a number of **magic commands** which can control how the interpreter works. \n",
    "[Link](https://ipython.readthedocs.io/en/stable/interactive/magics.html?highlight=magic)\n",
    "\n",
    "Common magic I've seen are"
   ]
  },
  {
   "cell_type": "code",
   "execution_count": 1,
   "metadata": {},
   "outputs": [],
   "source": [
    "%matplotlib inline"
   ]
  },
  {
   "cell_type": "markdown",
   "metadata": {},
   "source": [
    "Which sets up the interpreter to display matplotlib plots inline in the interpreter. I think. The docs are sort of nebululous.\n"
   ]
  },
  {
   "cell_type": "markdown",
   "metadata": {},
   "source": [
    "The `%notebook` command says to export the history of the notebook. I'm putting it at the end here so that I always get something exported so I can check it into git. If you are working interactively in a Jupyter environment you don't really need it I think. I think it is more for IPyton from the command line.\n",
    "\n",
    "`%notebook hints.ipynb`\n"
   ]
  },
  {
   "cell_type": "code",
   "execution_count": 3,
   "metadata": {},
   "outputs": [],
   "source": []
  },
  {
   "cell_type": "code",
   "execution_count": null,
   "metadata": {},
   "outputs": [],
   "source": []
  }
 ],
 "metadata": {
  "kernelspec": {
   "display_name": "Python 3",
   "language": "python",
   "name": "python3"
  },
  "language_info": {
   "codemirror_mode": {
    "name": "ipython",
    "version": 3
   },
   "file_extension": ".py",
   "mimetype": "text/x-python",
   "name": "python",
   "nbconvert_exporter": "python",
   "pygments_lexer": "ipython3",
   "version": "3.6.4"
  }
 },
 "nbformat": 4,
 "nbformat_minor": 2
}
